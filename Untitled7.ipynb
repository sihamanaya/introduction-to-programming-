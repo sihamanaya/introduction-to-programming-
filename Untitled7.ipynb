{
  "nbformat": 4,
  "nbformat_minor": 0,
  "metadata": {
    "colab": {
      "provenance": [],
      "include_colab_link": true
    },
    "kernelspec": {
      "name": "python3",
      "display_name": "Python 3"
    },
    "language_info": {
      "name": "python"
    }
  },
  "cells": [
    {
      "cell_type": "markdown",
      "metadata": {
        "id": "view-in-github",
        "colab_type": "text"
      },
      "source": [
        "<a href=\"https://colab.research.google.com/github/sihamanaya/introduction-to-programming-/blob/main/Untitled7.ipynb\" target=\"_parent\"><img src=\"https://colab.research.google.com/assets/colab-badge.svg\" alt=\"Open In Colab\"/></a>"
      ]
    },
    {
      "cell_type": "code",
      "execution_count": null,
      "metadata": {
        "colab": {
          "base_uri": "https://localhost:8080/"
        },
        "id": "Qalazjb3UmU-",
        "outputId": "c7297708-4ad9-45fc-efff-71a7ad0d3610"
      },
      "outputs": [
        {
          "output_type": "stream",
          "name": "stdout",
          "text": [
            "Enter your date of birth (mm/dd/yyyy): 7/02/2000\n",
            "Your age is: 23\n",
            "Date in European format: 07/02/2000\n"
          ]
        }
      ],
      "source": [
        "## EXCERCISE 1\n",
        "from datetime import date\n",
        "\n",
        "def calculate_age(birth_date, current_date):\n",
        "    birth_month, birth_day, birth_year = map(int, birth_date.split('/'))\n",
        "    current_month, current_day, current_year = map(int, current_date.split('/'))\n",
        "\n",
        "    if (\n",
        "        1 <= birth_month <= 12 and\n",
        "        1 <= birth_day <= 31 and\n",
        "        1900 <= birth_year <= current_year\n",
        "    ):\n",
        "        has_birthday_this_year = (\n",
        "            current_month > birth_month or\n",
        "            (current_month == birth_month and current_day >= birth_day)\n",
        "        )\n",
        "\n",
        "        age = current_year - birth_year - (not has_birthday_this_year)\n",
        "        return age\n",
        "    else:\n",
        "        return None\n",
        "\n",
        "def main():\n",
        "    try:\n",
        "        birth_date = input(\"Enter your date of birth (mm/dd/yyyy): \")\n",
        "        current_date = date.today().strftime(\"%m/%d/%Y\")\n",
        "\n",
        "        age = calculate_age(birth_date, current_date)\n",
        "\n",
        "        if age is not None:\n",
        "            print(f\"Your age is: {age}\")\n",
        "\n",
        "            # Output date in European format\n",
        "            birth_day, birth_month, birth_year = map(int, birth_date.split('/'))\n",
        "            european_format = f\"{birth_day:02d}/{birth_month:02d}/{birth_year}\"\n",
        "            print(f\"Date in European format: {european_format}\")\n",
        "        else:\n",
        "            print(\"Invalid date format or birth date is in the future.\")\n",
        "    except Exception as e:\n",
        "        print(f\"An error occurred: {e}\")\n",
        "\n",
        "if __name__ == \"__main__\":\n",
        "    main()\n",
        "\n",
        "\n",
        "\n",
        "\n",
        "\n",
        "\n",
        "\n",
        "\n",
        "\n",
        "\n",
        "\n",
        "    \"\"\"\n",
        "from datetime import date\n",
        "\n",
        "def calculate_age(birth_date, current_date):\n",
        "    birth_month, birth_day, birth_year = map(int, birth_date.split('/'))\n",
        "    current_month, current_day, current_year = map(int, current_date.split('/'))\n",
        "\n",
        "    if (\n",
        "        1 <= birth_month <= 12 and\n",
        "        1 <= birth_day <= 31 and\n",
        "        1900 <= birth_year <= current_year):\n",
        "        has_birthday_this_year = (\n",
        "            current_month > birth_month or\n",
        "            (current_month == birth_month and current_day >= birth_day)\n",
        "        )\n",
        "\n",
        "        age = current_year - birth_year - (not has_birthday_this_year)\n",
        "        return age\n",
        "    else:\n",
        "        return None\n",
        "birth_date = input(\"Enter your date of birth (mm/dd/yyyy): \")\n",
        "current_date = date.today().strftime(\"%m/%d/%Y\")\n",
        "age = calculate_age(birth_date, current_date)\n",
        "\n",
        "\n",
        "if age is not None:\n",
        "            print(f\"Your age is: {age}\")\n",
        "else:\n",
        "    print (\"error\")\n",
        "    \"\"\"\n",
        ""
      ]
    }
  ]
}